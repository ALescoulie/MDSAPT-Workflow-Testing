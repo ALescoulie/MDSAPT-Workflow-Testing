{
 "cells": [
  {
   "cell_type": "markdown",
   "metadata": {},
   "source": [
    "# SAPT Methods Testing\n",
    "\n",
    "This notebook is for testing the workflow of the TrajectorySAPT object in MDSAPT. TrajectorySAPT is a subclass of AnalysisBase in MDAnalysis and iterates over an MD trajectory calculating interaction energies using SAPT for the specified pairs. This notebook just statically looks at one interaction pair in one frame."
   ]
  },
  {
   "cell_type": "code",
   "execution_count": 21,
   "metadata": {},
   "outputs": [],
   "source": [
    "import MDAnalysis as mda\n",
    "\n",
    "from rdkit import Chem\n",
    "\n",
    "from MDSAPT.mdsapt.reader import InputReader\n",
    "from MDSAPT.mdsapt.optimizer import Optimizer, get_spin_multiplicity\n",
    "from MDSAPT.mdsapt.viewer import Viewer"
   ]
  },
  {
   "cell_type": "code",
   "execution_count": 22,
   "metadata": {},
   "outputs": [
    {
     "name": "stderr",
     "output_type": "stream",
     "text": [
      "/Users/alia/opt/anaconda3/envs/mdsapt2/lib/python3.8/site-packages/MDAnalysis/coordinates/PDB.py:747: UserWarning: Unit cell dimensions not found. CRYST1 record set to unitary values.\n",
      "  warnings.warn(\"Unit cell dimensions not found. \"\n",
      "/Users/alia/opt/anaconda3/envs/mdsapt2/lib/python3.8/site-packages/MDAnalysis/coordinates/PDB.py:1078: UserWarning: Found no information for attr: 'altLocs' Using default value of ' '\n",
      "  warnings.warn(\"Found no information for attr: '{}'\"\n",
      "/Users/alia/opt/anaconda3/envs/mdsapt2/lib/python3.8/site-packages/MDAnalysis/coordinates/PDB.py:1078: UserWarning: Found no information for attr: 'icodes' Using default value of ' '\n",
      "  warnings.warn(\"Found no information for attr: '{}'\"\n",
      "/Users/alia/opt/anaconda3/envs/mdsapt2/lib/python3.8/site-packages/MDAnalysis/coordinates/PDB.py:1078: UserWarning: Found no information for attr: 'chainIDs' Using default value of ''\n",
      "  warnings.warn(\"Found no information for attr: '{}'\"\n",
      "/Users/alia/opt/anaconda3/envs/mdsapt2/lib/python3.8/site-packages/MDAnalysis/coordinates/PDB.py:1078: UserWarning: Found no information for attr: 'occupancies' Using default value of '1.0'\n",
      "  warnings.warn(\"Found no information for attr: '{}'\"\n",
      "/Users/alia/opt/anaconda3/envs/mdsapt2/lib/python3.8/site-packages/MDAnalysis/coordinates/PDB.py:1078: UserWarning: Found no information for attr: 'tempfactors' Using default value of '0.0'\n",
      "  warnings.warn(\"Found no information for attr: '{}'\"\n",
      "/Users/alia/opt/anaconda3/envs/mdsapt2/lib/python3.8/site-packages/MDAnalysis/coordinates/PDB.py:1078: UserWarning: Found no information for attr: 'elements' Using default value of ' '\n",
      "  warnings.warn(\"Found no information for attr: '{}'\"\n",
      "/Users/alia/opt/anaconda3/envs/mdsapt2/lib/python3.8/site-packages/MDAnalysis/coordinates/PDB.py:1078: UserWarning: Found no information for attr: 'record_types' Using default value of 'ATOM'\n",
      "  warnings.warn(\"Found no information for attr: '{}'\"\n",
      "/Users/alia/opt/anaconda3/envs/mdsapt2/lib/python3.8/site-packages/MDAnalysis/coordinates/PDB.py:1124: UserWarning: Found missing chainIDs. Corresponding atoms will use value of 'X'\n",
      "  warnings.warn(\"Found missing chainIDs.\"\n",
      "/Users/alia/opt/anaconda3/envs/mdsapt2/lib/python3.8/site-packages/MDAnalysis/coordinates/PDB.py:429: UserWarning: 1 A^3 CRYST1 record, this is usually a placeholder. Unit cell dimensions will be set to None.\n",
      "  warnings.warn(\"1 A^3 CRYST1 record,\"\n",
      "/Users/alia/opt/anaconda3/envs/mdsapt2/lib/python3.8/site-packages/MDAnalysis/core/universe.py:433: UserWarning: Residues specified but no atom_resindex given.  All atoms will be placed in first Residue.\n",
      "  warnings.warn(\n",
      "/Users/alia/opt/anaconda3/envs/mdsapt2/lib/python3.8/site-packages/MDAnalysis/core/universe.py:439: UserWarning: Segments specified but no segment_resindex given.  All residues will be placed in first Segment\n",
      "  warnings.warn(\n"
     ]
    }
   ],
   "source": [
    "InSettings = InputReader('test_input.yaml')\n",
    "\n",
    "Opt = Optimizer(InSettings)\n",
    "\n",
    "View = Viewer(InSettings)"
   ]
  },
  {
   "cell_type": "markdown",
   "metadata": {},
   "source": [
    "### 1. Setup\n",
    "\n",
    "SAPT calculates the interaction energy between a dimer of molecules. When selected from a polypeptide backbone residues are not ready for SAPT as they are missing protons and have an unbalanced spin state. Optimizer solves that issue by capping the C terminus with a proton and replacing the missing protons on the N terminus.\n",
    "\n",
    "The optimized pair is shown below (must run notebook for widget to work)."
   ]
  },
  {
   "cell_type": "code",
   "execution_count": 23,
   "metadata": {},
   "outputs": [
    {
     "data": {
      "application/vnd.jupyter.widget-view+json": {
       "model_id": "517cb46a358c48578f34e9e4696f87bf",
       "version_major": 2,
       "version_minor": 0
      },
      "text/plain": [
       "NGLWidget(max_frame=97)"
      ]
     },
     "metadata": {},
     "output_type": "display_data"
    }
   ],
   "source": [
    "View.view_interaction_pair(11, 199)"
   ]
  },
  {
   "cell_type": "markdown",
   "metadata": {},
   "source": [
    "Once optimizer fixes the aforementioned issues this is residues before starting the SAPT run."
   ]
  },
  {
   "cell_type": "code",
   "execution_count": 24,
   "metadata": {},
   "outputs": [
    {
     "name": "stderr",
     "output_type": "stream",
     "text": [
      "/Users/alia/opt/anaconda3/envs/mdsapt2/lib/python3.8/site-packages/MDAnalysis/coordinates/PDB.py:747: UserWarning: Unit cell dimensions not found. CRYST1 record set to unitary values.\n",
      "  warnings.warn(\"Unit cell dimensions not found. \"\n",
      "/Users/alia/opt/anaconda3/envs/mdsapt2/lib/python3.8/site-packages/MDAnalysis/coordinates/PDB.py:1078: UserWarning: Found no information for attr: 'altLocs' Using default value of ' '\n",
      "  warnings.warn(\"Found no information for attr: '{}'\"\n",
      "/Users/alia/opt/anaconda3/envs/mdsapt2/lib/python3.8/site-packages/MDAnalysis/coordinates/PDB.py:1078: UserWarning: Found no information for attr: 'icodes' Using default value of ' '\n",
      "  warnings.warn(\"Found no information for attr: '{}'\"\n",
      "/Users/alia/opt/anaconda3/envs/mdsapt2/lib/python3.8/site-packages/MDAnalysis/coordinates/PDB.py:1078: UserWarning: Found no information for attr: 'chainIDs' Using default value of ''\n",
      "  warnings.warn(\"Found no information for attr: '{}'\"\n",
      "/Users/alia/opt/anaconda3/envs/mdsapt2/lib/python3.8/site-packages/MDAnalysis/coordinates/PDB.py:1078: UserWarning: Found no information for attr: 'occupancies' Using default value of '1.0'\n",
      "  warnings.warn(\"Found no information for attr: '{}'\"\n",
      "/Users/alia/opt/anaconda3/envs/mdsapt2/lib/python3.8/site-packages/MDAnalysis/coordinates/PDB.py:1078: UserWarning: Found no information for attr: 'tempfactors' Using default value of '0.0'\n",
      "  warnings.warn(\"Found no information for attr: '{}'\"\n",
      "/Users/alia/opt/anaconda3/envs/mdsapt2/lib/python3.8/site-packages/MDAnalysis/coordinates/PDB.py:1078: UserWarning: Found no information for attr: 'elements' Using default value of ' '\n",
      "  warnings.warn(\"Found no information for attr: '{}'\"\n",
      "/Users/alia/opt/anaconda3/envs/mdsapt2/lib/python3.8/site-packages/MDAnalysis/coordinates/PDB.py:1078: UserWarning: Found no information for attr: 'record_types' Using default value of 'ATOM'\n",
      "  warnings.warn(\"Found no information for attr: '{}'\"\n",
      "/Users/alia/opt/anaconda3/envs/mdsapt2/lib/python3.8/site-packages/MDAnalysis/coordinates/PDB.py:1124: UserWarning: Found missing chainIDs. Corresponding atoms will use value of 'X'\n",
      "  warnings.warn(\"Found missing chainIDs.\"\n",
      "/Users/alia/opt/anaconda3/envs/mdsapt2/lib/python3.8/site-packages/MDAnalysis/coordinates/PDB.py:429: UserWarning: 1 A^3 CRYST1 record, this is usually a placeholder. Unit cell dimensions will be set to None.\n",
      "  warnings.warn(\"1 A^3 CRYST1 record,\"\n",
      "/Users/alia/opt/anaconda3/envs/mdsapt2/lib/python3.8/site-packages/MDAnalysis/core/universe.py:433: UserWarning: Residues specified but no atom_resindex given.  All atoms will be placed in first Residue.\n",
      "  warnings.warn(\n",
      "/Users/alia/opt/anaconda3/envs/mdsapt2/lib/python3.8/site-packages/MDAnalysis/core/universe.py:439: UserWarning: Segments specified but no segment_resindex given.  All residues will be placed in first Segment\n",
      "  warnings.warn(\n"
     ]
    },
    {
     "data": {
      "application/vnd.jupyter.widget-view+json": {
       "model_id": "104d77768e134078bf4015366d1de6e5",
       "version_major": 2,
       "version_minor": 0
      },
      "text/plain": [
       "NGLWidget()"
      ]
     },
     "metadata": {},
     "output_type": "display_data"
    }
   ],
   "source": [
    "system = mda.Universe(InSettings.top_path, InSettings.trj_path)\n",
    "\n",
    "resid1 = system.select_atoms('resid 11')\n",
    "resid2 = system.select_atoms('resid 199')\n",
    "\n",
    "View.view_optimized_interaction_pair(11, 199)"
   ]
  },
  {
   "cell_type": "markdown",
   "metadata": {},
   "source": [
    "### 2. Generate Psi4 Inputs for each residue\n",
    "\n",
    "with both residues selected the coordinates must be set up for Psi4. This means getting their charge and spin state as well as coordinates and atom names formatted into a string. "
   ]
  },
  {
   "cell_type": "code",
   "execution_count": 25,
   "metadata": {},
   "outputs": [],
   "source": [
    "from MDAnalysis.converters.RDKit import atomgroup_to_mol\n",
    "\n",
    "def get_psi_mol(key: int, optimizer: Optimizer, residue: mda.AtomGroup) -> str:\n",
    "        resid: mda.AtomGroup = optimizer.rebuild_resid(key, residue)\n",
    "        rd_mol = atomgroup_to_mol(resid)\n",
    "\n",
    "        coords: str = f'{Chem.GetFormalCharge(rd_mol)} {get_spin_multiplicity(rd_mol)}'\n",
    "        for atom in resid.atoms:\n",
    "            coords += f'\\n{atom.name[0]} {atom.position[0]} {atom.position[1]} {atom.position[2]}'\n",
    "        return coords"
   ]
  },
  {
   "cell_type": "code",
   "execution_count": 26,
   "metadata": {},
   "outputs": [
    {
     "name": "stderr",
     "output_type": "stream",
     "text": [
      "/Users/alia/opt/anaconda3/envs/mdsapt2/lib/python3.8/site-packages/MDAnalysis/coordinates/PDB.py:747: UserWarning: Unit cell dimensions not found. CRYST1 record set to unitary values.\n",
      "  warnings.warn(\"Unit cell dimensions not found. \"\n",
      "/Users/alia/opt/anaconda3/envs/mdsapt2/lib/python3.8/site-packages/MDAnalysis/coordinates/PDB.py:1078: UserWarning: Found no information for attr: 'altLocs' Using default value of ' '\n",
      "  warnings.warn(\"Found no information for attr: '{}'\"\n",
      "/Users/alia/opt/anaconda3/envs/mdsapt2/lib/python3.8/site-packages/MDAnalysis/coordinates/PDB.py:1078: UserWarning: Found no information for attr: 'icodes' Using default value of ' '\n",
      "  warnings.warn(\"Found no information for attr: '{}'\"\n",
      "/Users/alia/opt/anaconda3/envs/mdsapt2/lib/python3.8/site-packages/MDAnalysis/coordinates/PDB.py:1078: UserWarning: Found no information for attr: 'chainIDs' Using default value of ''\n",
      "  warnings.warn(\"Found no information for attr: '{}'\"\n",
      "/Users/alia/opt/anaconda3/envs/mdsapt2/lib/python3.8/site-packages/MDAnalysis/coordinates/PDB.py:1078: UserWarning: Found no information for attr: 'occupancies' Using default value of '1.0'\n",
      "  warnings.warn(\"Found no information for attr: '{}'\"\n",
      "/Users/alia/opt/anaconda3/envs/mdsapt2/lib/python3.8/site-packages/MDAnalysis/coordinates/PDB.py:1078: UserWarning: Found no information for attr: 'tempfactors' Using default value of '0.0'\n",
      "  warnings.warn(\"Found no information for attr: '{}'\"\n",
      "/Users/alia/opt/anaconda3/envs/mdsapt2/lib/python3.8/site-packages/MDAnalysis/coordinates/PDB.py:1078: UserWarning: Found no information for attr: 'elements' Using default value of ' '\n",
      "  warnings.warn(\"Found no information for attr: '{}'\"\n",
      "/Users/alia/opt/anaconda3/envs/mdsapt2/lib/python3.8/site-packages/MDAnalysis/coordinates/PDB.py:1078: UserWarning: Found no information for attr: 'record_types' Using default value of 'ATOM'\n",
      "  warnings.warn(\"Found no information for attr: '{}'\"\n",
      "/Users/alia/opt/anaconda3/envs/mdsapt2/lib/python3.8/site-packages/MDAnalysis/coordinates/PDB.py:1124: UserWarning: Found missing chainIDs. Corresponding atoms will use value of 'X'\n",
      "  warnings.warn(\"Found missing chainIDs.\"\n",
      "/Users/alia/opt/anaconda3/envs/mdsapt2/lib/python3.8/site-packages/MDAnalysis/coordinates/PDB.py:429: UserWarning: 1 A^3 CRYST1 record, this is usually a placeholder. Unit cell dimensions will be set to None.\n",
      "  warnings.warn(\"1 A^3 CRYST1 record,\"\n",
      "/Users/alia/opt/anaconda3/envs/mdsapt2/lib/python3.8/site-packages/MDAnalysis/core/universe.py:433: UserWarning: Residues specified but no atom_resindex given.  All atoms will be placed in first Residue.\n",
      "  warnings.warn(\n",
      "/Users/alia/opt/anaconda3/envs/mdsapt2/lib/python3.8/site-packages/MDAnalysis/core/universe.py:439: UserWarning: Segments specified but no segment_resindex given.  All residues will be placed in first Segment\n",
      "  warnings.warn(\n",
      "/Users/alia/opt/anaconda3/envs/mdsapt2/lib/python3.8/site-packages/MDAnalysis/converters/RDKit.py:419: UserWarning: No `bonds` attribute in this AtomGroup. Guessing bonds based on atoms coordinates\n",
      "  warnings.warn(\n"
     ]
    },
    {
     "name": "stdout",
     "output_type": "stream",
     "text": [
      "1 1\n",
      "N -4.013999938964844 3.3259999752044678 6.854000091552734\n",
      "H -5.110000133514404 3.0179998874664307 7.247000217437744\n",
      "H -4.09499979019165 3.000999927520752 5.697000026702881\n",
      "H -3.364000082015991 2.805999994277954 7.296000003814697\n",
      "C -3.7980000972747803 4.765999794006348 6.86299991607666\n",
      "H -4.418000221252441 5.127999782562256 7.614999771118164\n",
      "C -2.2730000019073486 4.854000091552734 7.360000133514404\n",
      "H -1.5490000247955322 4.394999980926514 6.642000198364258\n",
      "H -2.180000066757202 4.193999767303467 8.267000198364258\n",
      "H -1.9869999885559082 5.919000148773193 7.538000106811523\n",
      "C -4.107999801635742 5.644999980926514 5.64900016784668\n",
      "O -5.047999858856201 6.392000198364258 5.74399995803833\n",
      "H -3.485483169555664 5.59555196762085 4.709632396697998\n",
      "--\n",
      "1 1\n",
      "N -4.447000026702881 11.470000267028809 8.847999572753906\n",
      "H -4.551000118255615 11.736000061035156 7.677000045776367\n",
      "H -4.063000202178955 10.336000442504883 8.718000411987305\n",
      "H -3.7200000286102295 12.062999725341797 9.204000473022461\n",
      "C -5.688000202178955 11.654000282287598 9.503999710083008\n",
      "H -6.302999973297119 10.776000022888184 9.394000053405762\n",
      "C -5.6519999504089355 12.008000373840332 10.989999771118164\n",
      "H -6.7170000076293945 12.036999702453613 11.36299991607666\n",
      "O -5.052999973297119 13.25100040435791 11.26099967956543\n",
      "H -4.129000186920166 13.274999618530273 10.883999824523926\n",
      "C -4.85099983215332 10.935999870300293 11.720999717712402\n",
      "H -3.8329999446868896 10.980999946594238 11.293000221252441\n",
      "H -5.223999977111816 9.934000015258789 11.529000282287598\n",
      "H -4.827000141143799 11.092000007629395 12.793000221252441\n",
      "C -6.484000205993652 12.631999969482422 8.708999633789062\n",
      "O -7.706999778747559 12.46399974822998 8.588000297546387\n",
      "H -5.979351043701172 13.515738487243652 8.222461700439453\n",
      "units angstrom\n"
     ]
    }
   ],
   "source": [
    "res1_in = get_psi_mol(11, Opt, resid1)\n",
    "res2_in = get_psi_mol(199, Opt, resid2)\n",
    "\n",
    "sapt_in = res1_in + '\\n--\\n' + res2_in + '\\nunits angstrom'\n",
    "\n",
    "print(sapt_in)"
   ]
  },
  {
   "cell_type": "markdown",
   "metadata": {},
   "source": [
    "### 3. Run SAPT calculation\n",
    "\n",
    "With the corrections finished the input string can be converted into a psi4 geometry and used to get the interaction energy. That calculations setting are specified in `test_input.yaml` and applied here. The output is given in `sapt_11-119_1.out`."
   ]
  },
  {
   "cell_type": "code",
   "execution_count": 28,
   "metadata": {},
   "outputs": [
    {
     "name": "stdout",
     "output_type": "stream",
     "text": [
      "\n",
      "  Memory set to  11.176 GiB by Python driver.\n",
      "  Threads set to 4 by Python driver.\n"
     ]
    }
   ],
   "source": [
    "import psi4\n",
    "\n",
    "dimer = psi4.geometry(sapt_in)\n",
    "psi4.set_options(InSettings.sapt_settings['settings'])\n",
    "psi4.set_memory(InSettings.memory)\n",
    "psi4.set_num_threads(InSettings.ncpus)\n",
    "psi4.set_output_file('sapt_11-199_1.out')"
   ]
  },
  {
   "cell_type": "code",
   "execution_count": 30,
   "metadata": {},
   "outputs": [
    {
     "name": "stdout",
     "output_type": "stream",
     "text": [
      "-608.1320412353217\n"
     ]
    }
   ],
   "source": [
    "sapt = psi4.energy(InSettings.sapt_settings['basis'], molecule=dimer)\n",
    "print(sapt)"
   ]
  }
 ],
 "metadata": {
  "interpreter": {
   "hash": "e692e05d556bb0afa7b1249117f15246e2d919d6dbe82ad09e809bf13fbb0c8e"
  },
  "kernelspec": {
   "display_name": "Python 3.8.12 64-bit ('mdsapt2': conda)",
   "language": "python",
   "name": "python3"
  },
  "language_info": {
   "codemirror_mode": {
    "name": "ipython",
    "version": 3
   },
   "file_extension": ".py",
   "mimetype": "text/x-python",
   "name": "python",
   "nbconvert_exporter": "python",
   "pygments_lexer": "ipython3",
   "version": "3.8.12"
  },
  "orig_nbformat": 4
 },
 "nbformat": 4,
 "nbformat_minor": 2
}
