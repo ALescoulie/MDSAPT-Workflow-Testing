{
 "cells": [
  {
   "cell_type": "markdown",
   "metadata": {},
   "source": [
    "# Ligand Methods Testing\n",
    "Testing method for the MD-SAPT docking methods for merging ligand and protein topologies while keeping the ligand specifically selectable"
   ]
  },
  {
   "cell_type": "code",
   "execution_count": 2,
   "metadata": {},
   "outputs": [
    {
     "data": {
      "application/vnd.jupyter.widget-view+json": {
       "model_id": "d6273863fbce45ffbbc95a81591f697a",
       "version_major": 2,
       "version_minor": 0
      },
      "text/plain": []
     },
     "metadata": {},
     "output_type": "display_data"
    }
   ],
   "source": [
    "import MDAnalysis as mda\n",
    "import nglview as nv"
   ]
  },
  {
   "cell_type": "code",
   "execution_count": 4,
   "metadata": {},
   "outputs": [
    {
     "data": {
      "application/vnd.jupyter.widget-view+json": {
       "model_id": "e0fe0f2cf40c414595b75348ab7042ee",
       "version_major": 2,
       "version_minor": 0
      },
      "text/plain": [
       "NGLWidget()"
      ]
     },
     "metadata": {},
     "output_type": "display_data"
    }
   ],
   "source": [
    "# Loading protein in\n",
    "protein = mda.Universe('topologies/2hnt.pdb')\n",
    "nv.show_mdanalysis(protein)"
   ]
  },
  {
   "cell_type": "code",
   "execution_count": 5,
   "metadata": {},
   "outputs": [
    {
     "data": {
      "application/vnd.jupyter.widget-view+json": {
       "model_id": "91693d60f6f34f04b6b4dca41fd8455c",
       "version_major": 2,
       "version_minor": 0
      },
      "text/plain": [
       "NGLWidget()"
      ]
     },
     "metadata": {},
     "output_type": "display_data"
    }
   ],
   "source": [
    "# Loading ligand in\n",
    "ligand = mda.Universe('topologies/15U0.pdb')\n",
    "nv.show_mdanalysis(ligand)"
   ]
  },
  {
   "cell_type": "code",
   "execution_count": 21,
   "metadata": {},
   "outputs": [
    {
     "data": {
      "application/vnd.jupyter.widget-view+json": {
       "model_id": "2ffe614e6db8462abbe5cd94d099d9e8",
       "version_major": 2,
       "version_minor": 0
      },
      "text/plain": [
       "NGLWidget()"
      ]
     },
     "metadata": {},
     "output_type": "display_data"
    }
   ],
   "source": [
    "# Putting together\n",
    "# ligand.segments.segids = ['ligand'] # Making ligand specifically selectable\n",
    "ligand.residues.resids = [-1]\n",
    "ligand_mol = ligand.select_atoms(\"name *\")\n",
    "full_protein = protein.select_atoms(\"protein\")\n",
    "complex = mda.core.universe.Merge(ligand_mol, full_protein)\n",
    "nv.show_mdanalysis(complex)"
   ]
  },
  {
   "cell_type": "code",
   "execution_count": 22,
   "metadata": {},
   "outputs": [
    {
     "data": {
      "application/vnd.jupyter.widget-view+json": {
       "model_id": "95ee227f5b474f42ae230cbf4795ba4b",
       "version_major": 2,
       "version_minor": 0
      },
      "text/plain": [
       "NGLWidget()"
      ]
     },
     "metadata": {},
     "output_type": "display_data"
    }
   ],
   "source": [
    "ligand_mol = complex.select_atoms('resid -1')\n",
    "nv.show_mdanalysis(ligand_mol)"
   ]
  }
 ],
 "metadata": {
  "kernelspec": {
   "display_name": "Python 3.9.12 ('MDSAPT')",
   "language": "python",
   "name": "python3"
  },
  "language_info": {
   "codemirror_mode": {
    "name": "ipython",
    "version": 3
   },
   "file_extension": ".py",
   "mimetype": "text/x-python",
   "name": "python",
   "nbconvert_exporter": "python",
   "pygments_lexer": "ipython3",
   "version": "3.9.12"
  },
  "orig_nbformat": 4,
  "vscode": {
   "interpreter": {
    "hash": "0cf8aab89a72f8bff2e42d3dc63210ae2b239be28d21fca048ebf99d75675c72"
   }
  }
 },
 "nbformat": 4,
 "nbformat_minor": 2
}
