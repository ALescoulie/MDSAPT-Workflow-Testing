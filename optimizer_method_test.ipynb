{
 "cells": [
  {
   "cell_type": "markdown",
   "metadata": {},
   "source": [
    "# Optimizer Methods Testing\n",
    "\n",
    "This is notebook for testing the workflow of the optimizer object in MDSAPT. Optimizer was developed to solve the issue of residues having an unbalanced spin when drawn directly from protein backbone. It does this over a few steps addressing the different issues. "
   ]
  },
  {
   "cell_type": "code",
   "execution_count": 3,
   "metadata": {
    "collapsed": true
   },
   "outputs": [],
   "source": [
    "import os\n",
    "\n",
    "import numpy as np\n",
    "\n",
    "import MDAnalysis as mda\n",
    "\n",
    "from pdbfixer import PDBFixer\n",
    "\n",
    "from simtk.openmm.app import PDBFile\n",
    "\n",
    "import nglview as nv\n",
    "\n",
    "from MDSAPT.mdsapt.reader import InputReader\n",
    "from MDSAPT.mdsapt.viewer import Viewer"
   ]
  },
  {
   "cell_type": "code",
   "execution_count": 13,
   "metadata": {
    "collapsed": false,
    "pycharm": {
     "name": "#%%\n"
    }
   },
   "outputs": [
    {
     "name": "stderr",
     "output_type": "stream",
     "text": [
      "/Users/alia/opt/anaconda3/envs/mdsapt2/lib/python3.8/site-packages/MDAnalysis/coordinates/PDB.py:747: UserWarning: Unit cell dimensions not found. CRYST1 record set to unitary values.\n",
      "  warnings.warn(\"Unit cell dimensions not found. \"\n",
      "/Users/alia/opt/anaconda3/envs/mdsapt2/lib/python3.8/site-packages/MDAnalysis/coordinates/PDB.py:1078: UserWarning: Found no information for attr: 'altLocs' Using default value of ' '\n",
      "  warnings.warn(\"Found no information for attr: '{}'\"\n",
      "/Users/alia/opt/anaconda3/envs/mdsapt2/lib/python3.8/site-packages/MDAnalysis/coordinates/PDB.py:1078: UserWarning: Found no information for attr: 'icodes' Using default value of ' '\n",
      "  warnings.warn(\"Found no information for attr: '{}'\"\n",
      "/Users/alia/opt/anaconda3/envs/mdsapt2/lib/python3.8/site-packages/MDAnalysis/coordinates/PDB.py:1078: UserWarning: Found no information for attr: 'chainIDs' Using default value of ''\n",
      "  warnings.warn(\"Found no information for attr: '{}'\"\n",
      "/Users/alia/opt/anaconda3/envs/mdsapt2/lib/python3.8/site-packages/MDAnalysis/coordinates/PDB.py:1078: UserWarning: Found no information for attr: 'occupancies' Using default value of '1.0'\n",
      "  warnings.warn(\"Found no information for attr: '{}'\"\n",
      "/Users/alia/opt/anaconda3/envs/mdsapt2/lib/python3.8/site-packages/MDAnalysis/coordinates/PDB.py:1078: UserWarning: Found no information for attr: 'tempfactors' Using default value of '0.0'\n",
      "  warnings.warn(\"Found no information for attr: '{}'\"\n",
      "/Users/alia/opt/anaconda3/envs/mdsapt2/lib/python3.8/site-packages/MDAnalysis/coordinates/PDB.py:1078: UserWarning: Found no information for attr: 'elements' Using default value of ' '\n",
      "  warnings.warn(\"Found no information for attr: '{}'\"\n",
      "/Users/alia/opt/anaconda3/envs/mdsapt2/lib/python3.8/site-packages/MDAnalysis/coordinates/PDB.py:1078: UserWarning: Found no information for attr: 'record_types' Using default value of 'ATOM'\n",
      "  warnings.warn(\"Found no information for attr: '{}'\"\n",
      "/Users/alia/opt/anaconda3/envs/mdsapt2/lib/python3.8/site-packages/MDAnalysis/coordinates/PDB.py:1124: UserWarning: Found missing chainIDs. Corresponding atoms will use value of 'X'\n",
      "  warnings.warn(\"Found missing chainIDs.\"\n",
      "/Users/alia/opt/anaconda3/envs/mdsapt2/lib/python3.8/site-packages/MDAnalysis/coordinates/PDB.py:429: UserWarning: 1 A^3 CRYST1 record, this is usually a placeholder. Unit cell dimensions will be set to None.\n",
      "  warnings.warn(\"1 A^3 CRYST1 record,\"\n",
      "/Users/alia/opt/anaconda3/envs/mdsapt2/lib/python3.8/site-packages/MDAnalysis/core/universe.py:433: UserWarning: Residues specified but no atom_resindex given.  All atoms will be placed in first Residue.\n",
      "  warnings.warn(\n",
      "/Users/alia/opt/anaconda3/envs/mdsapt2/lib/python3.8/site-packages/MDAnalysis/core/universe.py:439: UserWarning: Segments specified but no segment_resindex given.  All residues will be placed in first Segment\n",
      "  warnings.warn(\n"
     ]
    }
   ],
   "source": [
    "In = InputReader('test_input.yaml')\n",
    "\n",
    "unv = mda.Universe(In.top_path, In.trj_path)\n",
    "\n",
    "viewer = Viewer(In)"
   ]
  },
  {
   "cell_type": "markdown",
   "metadata": {},
   "source": [
    "## 1. Loading the Residue\n",
    "\n",
    "In this case ARG is the residue. Both the amino and carboxyl side of the residue are missing protons."
   ]
  },
  {
   "cell_type": "code",
   "execution_count": 14,
   "metadata": {
    "collapsed": false,
    "pycharm": {
     "name": "#%%\n"
    }
   },
   "outputs": [
    {
     "data": {
      "application/vnd.jupyter.widget-view+json": {
       "model_id": "2a85dd00737243bca5227b6880ae53e4",
       "version_major": 2,
       "version_minor": 0
      },
      "text/plain": [
       "NGLWidget(max_frame=97)"
      ]
     },
     "metadata": {},
     "output_type": "display_data"
    }
   ],
   "source": [
    "res = unv.select_atoms('resid 2')\n",
    "\n",
    "viewer.view_residue(1)"
   ]
  },
  {
   "cell_type": "markdown",
   "metadata": {},
   "source": [
    "## 2. Replacing missing Amino Protons\n",
    "The file is loaded into PDBFixer from opennm and amino protons are reattached. This is the `_fix_amino()` method in Optimizer."
   ]
  },
  {
   "cell_type": "code",
   "execution_count": 15,
   "metadata": {},
   "outputs": [
    {
     "name": "stderr",
     "output_type": "stream",
     "text": [
      "/Users/alia/opt/anaconda3/envs/mdsapt2/lib/python3.8/site-packages/MDAnalysis/coordinates/PDB.py:747: UserWarning: Unit cell dimensions not found. CRYST1 record set to unitary values.\n",
      "  warnings.warn(\"Unit cell dimensions not found. \"\n",
      "/Users/alia/opt/anaconda3/envs/mdsapt2/lib/python3.8/site-packages/MDAnalysis/coordinates/PDB.py:1078: UserWarning: Found no information for attr: 'altLocs' Using default value of ' '\n",
      "  warnings.warn(\"Found no information for attr: '{}'\"\n",
      "/Users/alia/opt/anaconda3/envs/mdsapt2/lib/python3.8/site-packages/MDAnalysis/coordinates/PDB.py:1078: UserWarning: Found no information for attr: 'icodes' Using default value of ' '\n",
      "  warnings.warn(\"Found no information for attr: '{}'\"\n",
      "/Users/alia/opt/anaconda3/envs/mdsapt2/lib/python3.8/site-packages/MDAnalysis/coordinates/PDB.py:1078: UserWarning: Found no information for attr: 'chainIDs' Using default value of ''\n",
      "  warnings.warn(\"Found no information for attr: '{}'\"\n",
      "/Users/alia/opt/anaconda3/envs/mdsapt2/lib/python3.8/site-packages/MDAnalysis/coordinates/PDB.py:1078: UserWarning: Found no information for attr: 'occupancies' Using default value of '1.0'\n",
      "  warnings.warn(\"Found no information for attr: '{}'\"\n",
      "/Users/alia/opt/anaconda3/envs/mdsapt2/lib/python3.8/site-packages/MDAnalysis/coordinates/PDB.py:1078: UserWarning: Found no information for attr: 'tempfactors' Using default value of '0.0'\n",
      "  warnings.warn(\"Found no information for attr: '{}'\"\n",
      "/Users/alia/opt/anaconda3/envs/mdsapt2/lib/python3.8/site-packages/MDAnalysis/coordinates/PDB.py:1078: UserWarning: Found no information for attr: 'elements' Using default value of ' '\n",
      "  warnings.warn(\"Found no information for attr: '{}'\"\n",
      "/Users/alia/opt/anaconda3/envs/mdsapt2/lib/python3.8/site-packages/MDAnalysis/coordinates/PDB.py:1078: UserWarning: Found no information for attr: 'record_types' Using default value of 'ATOM'\n",
      "  warnings.warn(\"Found no information for attr: '{}'\"\n",
      "/Users/alia/opt/anaconda3/envs/mdsapt2/lib/python3.8/site-packages/MDAnalysis/coordinates/PDB.py:1124: UserWarning: Found missing chainIDs. Corresponding atoms will use value of 'X'\n",
      "  warnings.warn(\"Found missing chainIDs.\"\n",
      "/Users/alia/opt/anaconda3/envs/mdsapt2/lib/python3.8/site-packages/MDAnalysis/coordinates/PDB.py:429: UserWarning: 1 A^3 CRYST1 record, this is usually a placeholder. Unit cell dimensions will be set to None.\n",
      "  warnings.warn(\"1 A^3 CRYST1 record,\"\n"
     ]
    },
    {
     "data": {
      "application/vnd.jupyter.widget-view+json": {
       "model_id": "128e5ef29f6847f9a1d8a1d965a67db9",
       "version_major": 2,
       "version_minor": 0
      },
      "text/plain": [
       "NGLWidget()"
      ]
     },
     "metadata": {},
     "output_type": "display_data"
    }
   ],
   "source": [
    "res.write('resid.pdb', file_format='PDB') # Saving residue\n",
    "fixer = PDBFixer(filename='resid.pdb')\n",
    "fixer.findMissingResidues()\n",
    "fixer.findMissingAtoms()\n",
    "fixer.addMissingHydrogens(7) # Adding protons at pH value\n",
    "PDBFile.writeFile(fixer.topology, fixer.positions, open('resid_fixed.pdb', 'w'))\n",
    "\n",
    "\n",
    "res_fixed = mda.Universe('resid_fixed.pdb')\n",
    "resid: mda.AtomGroup = res_fixed.select_atoms(\"resname *\")\n",
    "resid.guess_bonds()\n",
    "nv.show_mdanalysis(resid)"
   ]
  },
  {
   "cell_type": "markdown",
   "metadata": {},
   "source": [
    "## 3. Adding New Proton\n",
    "\n",
    "The carbon on the carboxyl end of the residue only has three bonds when removed from the backbone. Rather than adding a hydroxyl group, a proton is added to the end as a 4th bond. This is done by the `_protonate_backbone()` method in Optimizer.\n",
    "\n",
    "The new proton confidantes are obtained using the `_get_new_pos()` function by taking the opposite of the sum of the normalized vectors between the $C-\\alpha C$ and the $C=O$ bond. That new vector is than normalized, multiplied by the new bond length, and added to the coordinates of the carbon. This gives the trigonal planar geometry expected in a SP2 carbon."
   ]
  },
  {
   "cell_type": "code",
   "execution_count": 19,
   "metadata": {},
   "outputs": [],
   "source": [
    "def _get_new_pos(backbone: mda.AtomGroup, length: float):\n",
    "    c_pos = backbone.select_atoms('name C').positions[0]\n",
    "    o_pos = backbone.select_atoms('name O').positions[0]\n",
    "    a_pos = backbone.select_atoms('name CA').positions[0]\n",
    "    o_pos = o_pos - c_pos  # Translate coords such that C in at origin\n",
    "    a_pos = a_pos - c_pos\n",
    "    o_norm = o_pos/np.linalg.norm(o_pos)\n",
    "    a_norm = a_pos/np.linalg.norm(a_pos)\n",
    "    h_pos = -(o_norm + a_norm)\n",
    "    h_norm = h_pos/np.linalg.norm(h_pos)\n",
    "    h_norm = (h_norm * length) + c_pos\n",
    "    return h_norm"
   ]
  },
  {
   "cell_type": "code",
   "execution_count": 20,
   "metadata": {},
   "outputs": [
    {
     "data": {
      "application/vnd.jupyter.widget-view+json": {
       "model_id": "e350019eeedb4fd6b606840a3ee3b278",
       "version_major": 2,
       "version_minor": 0
      },
      "text/plain": [
       "NGLWidget()"
      ]
     },
     "metadata": {},
     "output_type": "display_data"
    }
   ],
   "source": [
    "resid_system = mda.Universe('resid_fixed.pdb') # Load PDBRepair segid\n",
    "resid_fixed = resid_system.select_atoms('all')\n",
    "h = mda.Universe.empty(n_atoms=resid_fixed.n_atoms + 1, trajectory=True)\n",
    "h.add_TopologyAttr(\"masses\", [x for x in resid_fixed.masses] + [1])\n",
    "h.add_TopologyAttr(\"name\", [x for x in resid_fixed.names] + ['H*'])\n",
    "resid_pos = resid_fixed.positions\n",
    "h_pos = _get_new_pos(resid_fixed, 1.128)\n",
    "h.atoms.positions = np.row_stack((resid_pos, h_pos))\n",
    "nv.show_mdanalysis(h)\n"
   ]
  },
  {
   "cell_type": "markdown",
   "metadata": {},
   "source": [
    "## 4. Optimizing New Bond\n",
    "\n",
    "Psi4 is employed to optimize the length of the newly added C-H bond. Before this occurs the residue is converted into an rdkit molecule so that the spin multiplicity and formal charge can be easily computed for the psi4 input file.\n",
    "Afterwards the coordinates are given to psi4 and the geometric optimization is run. This is done during the `_opt_geometry()` method of Optimizer."
   ]
  },
  {
   "cell_type": "code",
   "execution_count": 21,
   "metadata": {},
   "outputs": [
    {
     "name": "stderr",
     "output_type": "stream",
     "text": [
      "/Users/alia/opt/anaconda3/envs/mdsapt2/lib/python3.8/site-packages/MDAnalysis/converters/RDKit.py:419: UserWarning: No `bonds` attribute in this AtomGroup. Guessing bonds based on atoms coordinates\n",
      "  warnings.warn(\n"
     ]
    }
   ],
   "source": [
    "from rdkit import Chem\n",
    "\n",
    "from MDSAPT.mdsapt.optimizer import get_spin_multiplicity\n",
    "\n",
    "from MDAnalysis.topology.guessers import guess_types, guess_atom_element\n",
    "from MDAnalysis.converters.RDKit import atomgroup_to_mol\n",
    "\n",
    "h.add_TopologyAttr('types', guess_types(h.atoms.names))\n",
    "h.add_TopologyAttr('elements', [guess_atom_element(atom) for atom in h.atoms.names])\n",
    "resid = h.select_atoms('all')\n",
    "\n",
    "rd_mol = atomgroup_to_mol(resid)"
   ]
  },
  {
   "cell_type": "code",
   "execution_count": 22,
   "metadata": {},
   "outputs": [
    {
     "name": "stdout",
     "output_type": "stream",
     "text": [
      "\n",
      "1 xyz\n",
      "2 xyz\n",
      "3 xyz\n",
      "4 xyz\n",
      "5 xyz\n",
      "6 xyz\n",
      "7 xyz\n",
      "8 xyz\n",
      "9 xyz\n",
      "10 xyz\n",
      "11 xyz\n",
      "12 xyz\n",
      "13 xyz\n",
      "14 xyz\n",
      "15 xyz\n",
      "16 xyz\n",
      "17 xyz\n",
      "18 xyz\n",
      "19 xyz\n",
      "20 xyz\n",
      "21 xyz\n",
      "22 xyz\n",
      "23 xyz\n",
      "24 xyz\n",
      "25 xyz\n",
      "26 xyz\n",
      "2 1\n",
      "N 11.840999603271484 6.642000198364258 6.642000198364258\n",
      "H 11.887999534606934 6.51200008392334 6.51200008392334\n",
      "H 10.894000053405762 7.392000198364258 7.392000198364258\n",
      "H 12.565999984741211 7.125 7.125\n",
      "C 11.414999961853027 5.434000015258789 5.434000015258789\n",
      "H 10.65999984741211 5.004000186920166 5.004000186920166\n",
      "C 12.531999588012695 4.363999843597412 4.363999843597412\n",
      "H 12.118000030517578 3.5220000743865967 3.5220000743865967\n",
      "H 13.302000045776367 4.796999931335449 4.796999931335449\n",
      "C 13.315999984741211 3.759000062942505 3.759000062942505\n",
      "H 12.62399959564209 3.680000066757202 3.680000066757202\n",
      "H 13.604999542236328 2.6540000438690186 2.6540000438690186\n",
      "C 14.609000205993652 4.525000095367432 4.525000095367432\n",
      "H 15.270000457763672 4.505000114440918 4.505000114440918\n",
      "H 14.281000137329102 5.531000137329102 5.531000137329102\n",
      "N 15.307999610900879 3.763000011444092 3.763000011444092\n",
      "H 14.751999855041504 3.2899999618530273 3.2899999618530273\n",
      "C 16.572999954223633 3.4179999828338623 3.4179999828338623\n",
      "N 17.47800064086914 3.9660000801086426 3.9660000801086426\n",
      "H 17.115999221801758 4.702000141143799 4.702000141143799\n",
      "H 18.261999130249023 3.453000068664551 3.453000068664551\n",
      "N 16.96500015258789 2.3450000286102295 2.3450000286102295\n",
      "H 16.30900001525879 1.8849999904632568 1.8849999904632568\n",
      "H 17.847000122070312 1.9889999628067017 1.9889999628067017\n",
      "C 10.770999908447266 5.855000019073486 5.855000019073486\n",
      "O 11.35200023651123 6.664000034332275 6.664000034332275\n",
      "H 9.76501178741455 5.441152572631836 5.441152572631836\n"
     ]
    }
   ],
   "source": [
    "import psi4\n",
    "\n",
    "coords: str = f'{Chem.GetFormalCharge(rd_mol)} {get_spin_multiplicity(rd_mol)}'\n",
    "freeze_list = ''\n",
    "opt_settings: dict = {'reference': 'rhf',\n",
    "                      'freeze_core': 'true'} # Psi4 settings\n",
    "\n",
    "# Getting coords and settings\n",
    "for n in range(len(h.atoms)):\n",
    "    atom = h.atoms[n]\n",
    "    coords += f\"\\n{atom.name[0]} {atom.position[0]} {atom.position[1]} {atom.position[1]}\"\n",
    "    if atom.name != 'H*':\n",
    "        freeze_list += f\"\\n{n + 1} xyz\" # Freezing bonds besides H\n",
    "print(freeze_list)\n",
    "print(coords)\n",
    "\n",
    "mol = psi4.geometry(coords)\n"
   ]
  },
  {
   "cell_type": "code",
   "execution_count": 20,
   "metadata": {},
   "outputs": [
    {
     "name": "stdout",
     "output_type": "stream",
     "text": [
      "\n",
      "  Memory set to   7.451 GiB by Python driver.\n"
     ]
    },
    {
     "name": "stderr",
     "output_type": "stream",
     "text": [
      "New linear angles\n",
      "New linear angles\n",
      "New linear angles\n",
      "New linear angles\n",
      "New linear angles\n",
      "New linear angles\n",
      "New linear angles\n",
      "New linear angles\n",
      "New linear angles\n",
      "New linear angles\n",
      "New linear angles\n",
      "New linear angles\n",
      "New linear angles\n",
      "New linear angles\n",
      "New linear angles\n",
      "New linear angles\n",
      "New linear angles\n",
      "New linear angles\n",
      "New linear angles\n",
      "New linear angles\n",
      "New linear angles\n",
      "New linear angles\n",
      "New linear angles\n"
     ]
    },
    {
     "ename": "KeyboardInterrupt",
     "evalue": "",
     "output_type": "error",
     "traceback": [
      "\u001b[0;31m---------------------------------------------------------------------------\u001b[0m",
      "\u001b[0;31mKeyboardInterrupt\u001b[0m                         Traceback (most recent call last)",
      "\u001b[0;32m/var/folders/tm/l9n3216d1nd4rx41smlqm5pc0000gn/T/ipykernel_16325/3092569807.py\u001b[0m in \u001b[0;36m<module>\u001b[0;34m\u001b[0m\n\u001b[1;32m      2\u001b[0m \u001b[0mpsi4\u001b[0m\u001b[0;34m.\u001b[0m\u001b[0mset_options\u001b[0m\u001b[0;34m(\u001b[0m\u001b[0mopt_settings\u001b[0m\u001b[0;34m)\u001b[0m\u001b[0;34m\u001b[0m\u001b[0;34m\u001b[0m\u001b[0m\n\u001b[1;32m      3\u001b[0m \u001b[0mpsi4\u001b[0m\u001b[0;34m.\u001b[0m\u001b[0mset_output_file\u001b[0m\u001b[0;34m(\u001b[0m\u001b[0;34m'opt_fullres.txt'\u001b[0m\u001b[0;34m)\u001b[0m\u001b[0;34m\u001b[0m\u001b[0;34m\u001b[0m\u001b[0m\n\u001b[0;32m----> 4\u001b[0;31m \u001b[0mpsi4\u001b[0m\u001b[0;34m.\u001b[0m\u001b[0moptimize\u001b[0m\u001b[0;34m(\u001b[0m\u001b[0;34m'scf/cc-pvdz'\u001b[0m\u001b[0;34m,\u001b[0m \u001b[0mfreeze_list\u001b[0m\u001b[0;34m=\u001b[0m\u001b[0mfreeze_list\u001b[0m\u001b[0;34m,\u001b[0m \u001b[0mopt_coordinates\u001b[0m\u001b[0;34m=\u001b[0m\u001b[0;34m'cartesian'\u001b[0m\u001b[0;34m,\u001b[0m \u001b[0mmolecule\u001b[0m\u001b[0;34m=\u001b[0m\u001b[0mmol\u001b[0m\u001b[0;34m)\u001b[0m\u001b[0;34m\u001b[0m\u001b[0;34m\u001b[0m\u001b[0m\n\u001b[0m",
      "\u001b[0;32m~/opt/anaconda3/envs/mdsapt2/lib/python3.8/site-packages/psi4/driver/driver.py\u001b[0m in \u001b[0;36moptimize\u001b[0;34m(name, **kwargs)\u001b[0m\n\u001b[1;32m   1337\u001b[0m         \u001b[0;31m# Compute the gradient - preserve opt data despite core.clean calls in gradient\u001b[0m\u001b[0;34m\u001b[0m\u001b[0;34m\u001b[0m\u001b[0;34m\u001b[0m\u001b[0m\n\u001b[1;32m   1338\u001b[0m         \u001b[0mcore\u001b[0m\u001b[0;34m.\u001b[0m\u001b[0mIOManager\u001b[0m\u001b[0;34m.\u001b[0m\u001b[0mshared_object\u001b[0m\u001b[0;34m(\u001b[0m\u001b[0;34m)\u001b[0m\u001b[0;34m.\u001b[0m\u001b[0mset_specific_retention\u001b[0m\u001b[0;34m(\u001b[0m\u001b[0;36m1\u001b[0m\u001b[0;34m,\u001b[0m \u001b[0;32mTrue\u001b[0m\u001b[0;34m)\u001b[0m\u001b[0;34m\u001b[0m\u001b[0;34m\u001b[0m\u001b[0m\n\u001b[0;32m-> 1339\u001b[0;31m         \u001b[0mG\u001b[0m\u001b[0;34m,\u001b[0m \u001b[0mwfn\u001b[0m \u001b[0;34m=\u001b[0m \u001b[0mgradient\u001b[0m\u001b[0;34m(\u001b[0m\u001b[0mlowername\u001b[0m\u001b[0;34m,\u001b[0m \u001b[0mreturn_wfn\u001b[0m\u001b[0;34m=\u001b[0m\u001b[0;32mTrue\u001b[0m\u001b[0;34m,\u001b[0m \u001b[0mmolecule\u001b[0m\u001b[0;34m=\u001b[0m\u001b[0mmoleculeclone\u001b[0m\u001b[0;34m,\u001b[0m \u001b[0;34m**\u001b[0m\u001b[0mkwargs\u001b[0m\u001b[0;34m)\u001b[0m\u001b[0;34m\u001b[0m\u001b[0;34m\u001b[0m\u001b[0m\n\u001b[0m\u001b[1;32m   1340\u001b[0m         \u001b[0mthisenergy\u001b[0m \u001b[0;34m=\u001b[0m \u001b[0mcore\u001b[0m\u001b[0;34m.\u001b[0m\u001b[0mvariable\u001b[0m\u001b[0;34m(\u001b[0m\u001b[0;34m'CURRENT ENERGY'\u001b[0m\u001b[0;34m)\u001b[0m\u001b[0;34m\u001b[0m\u001b[0;34m\u001b[0m\u001b[0m\n\u001b[1;32m   1341\u001b[0m \u001b[0;34m\u001b[0m\u001b[0m\n",
      "\u001b[0;32m~/opt/anaconda3/envs/mdsapt2/lib/python3.8/site-packages/psi4/driver/driver.py\u001b[0m in \u001b[0;36mgradient\u001b[0;34m(name, **kwargs)\u001b[0m\n\u001b[1;32m    696\u001b[0m         \u001b[0;32mif\u001b[0m \u001b[0mdertype\u001b[0m \u001b[0;34m==\u001b[0m \u001b[0;36m1\u001b[0m\u001b[0;34m:\u001b[0m\u001b[0;34m\u001b[0m\u001b[0;34m\u001b[0m\u001b[0m\n\u001b[1;32m    697\u001b[0m             \u001b[0;31m# Bounce to CBS in pure-gradient mode if \"method/basis\" name and all parts have analytic grad. avail.\u001b[0m\u001b[0;34m\u001b[0m\u001b[0;34m\u001b[0m\u001b[0;34m\u001b[0m\u001b[0m\n\u001b[0;32m--> 698\u001b[0;31m             \u001b[0;32mreturn\u001b[0m \u001b[0mdriver_cbs\u001b[0m\u001b[0;34m.\u001b[0m\u001b[0m_cbs_gufunc\u001b[0m\u001b[0;34m(\u001b[0m\u001b[0mgradient\u001b[0m\u001b[0;34m,\u001b[0m \u001b[0mname\u001b[0m\u001b[0;34m,\u001b[0m \u001b[0mptype\u001b[0m\u001b[0;34m=\u001b[0m\u001b[0;34m'gradient'\u001b[0m\u001b[0;34m,\u001b[0m \u001b[0;34m**\u001b[0m\u001b[0mkwargs\u001b[0m\u001b[0;34m)\u001b[0m\u001b[0;34m\u001b[0m\u001b[0;34m\u001b[0m\u001b[0m\n\u001b[0m\u001b[1;32m    699\u001b[0m         \u001b[0;32melse\u001b[0m\u001b[0;34m:\u001b[0m\u001b[0;34m\u001b[0m\u001b[0;34m\u001b[0m\u001b[0m\n\u001b[1;32m    700\u001b[0m             \u001b[0;31m# Set method-dependent scf convergence criteria (test on procedures['energy'] since that's guaranteed)\u001b[0m\u001b[0;34m\u001b[0m\u001b[0;34m\u001b[0m\u001b[0;34m\u001b[0m\u001b[0m\n",
      "\u001b[0;32m~/opt/anaconda3/envs/mdsapt2/lib/python3.8/site-packages/psi4/driver/driver_cbs.py\u001b[0m in \u001b[0;36m_cbs_gufunc\u001b[0;34m(func, total_method_name, **kwargs)\u001b[0m\n\u001b[1;32m   1960\u001b[0m         \u001b[0moptstash\u001b[0m \u001b[0;34m=\u001b[0m \u001b[0mp4util\u001b[0m\u001b[0;34m.\u001b[0m\u001b[0mOptionsState\u001b[0m\u001b[0;34m(\u001b[0m\u001b[0;34m[\u001b[0m\u001b[0;34m'BASIS'\u001b[0m\u001b[0;34m]\u001b[0m\u001b[0;34m)\u001b[0m\u001b[0;34m\u001b[0m\u001b[0;34m\u001b[0m\u001b[0m\n\u001b[1;32m   1961\u001b[0m         \u001b[0mcore\u001b[0m\u001b[0;34m.\u001b[0m\u001b[0mset_global_option\u001b[0m\u001b[0;34m(\u001b[0m\u001b[0;34m'BASIS'\u001b[0m\u001b[0;34m,\u001b[0m \u001b[0mbasis\u001b[0m\u001b[0;34m)\u001b[0m\u001b[0;34m\u001b[0m\u001b[0;34m\u001b[0m\u001b[0m\n\u001b[0;32m-> 1962\u001b[0;31m         \u001b[0mptype_value\u001b[0m\u001b[0;34m,\u001b[0m \u001b[0mwfn\u001b[0m \u001b[0;34m=\u001b[0m \u001b[0mfunc\u001b[0m\u001b[0;34m(\u001b[0m\u001b[0mmethod_name\u001b[0m\u001b[0;34m,\u001b[0m \u001b[0mreturn_wfn\u001b[0m\u001b[0;34m=\u001b[0m\u001b[0;32mTrue\u001b[0m\u001b[0;34m,\u001b[0m \u001b[0mmolecule\u001b[0m\u001b[0;34m=\u001b[0m\u001b[0mmolecule\u001b[0m\u001b[0;34m,\u001b[0m \u001b[0;34m**\u001b[0m\u001b[0mkwargs\u001b[0m\u001b[0;34m)\u001b[0m\u001b[0;34m\u001b[0m\u001b[0;34m\u001b[0m\u001b[0m\n\u001b[0m\u001b[1;32m   1963\u001b[0m         \u001b[0;32mif\u001b[0m \u001b[0mcore\u001b[0m\u001b[0;34m.\u001b[0m\u001b[0mget_option\u001b[0m\u001b[0;34m(\u001b[0m\u001b[0;34m\"SCF\"\u001b[0m\u001b[0;34m,\u001b[0m \u001b[0;34m\"DF_INTS_IO\"\u001b[0m\u001b[0;34m)\u001b[0m \u001b[0;34m!=\u001b[0m \u001b[0;34m\"SAVE\"\u001b[0m\u001b[0;34m:\u001b[0m\u001b[0;34m\u001b[0m\u001b[0;34m\u001b[0m\u001b[0m\n\u001b[1;32m   1964\u001b[0m             \u001b[0mcore\u001b[0m\u001b[0;34m.\u001b[0m\u001b[0mclean\u001b[0m\u001b[0;34m(\u001b[0m\u001b[0;34m)\u001b[0m\u001b[0;34m\u001b[0m\u001b[0;34m\u001b[0m\u001b[0m\n",
      "\u001b[0;32m~/opt/anaconda3/envs/mdsapt2/lib/python3.8/site-packages/psi4/driver/driver.py\u001b[0m in \u001b[0;36mgradient\u001b[0;34m(name, **kwargs)\u001b[0m\n\u001b[1;32m    737\u001b[0m \u001b[0;34m\u001b[0m\u001b[0m\n\u001b[1;32m    738\u001b[0m         \u001b[0;31m# Perform the gradient calculation\u001b[0m\u001b[0;34m\u001b[0m\u001b[0;34m\u001b[0m\u001b[0;34m\u001b[0m\u001b[0m\n\u001b[0;32m--> 739\u001b[0;31m         \u001b[0mwfn\u001b[0m \u001b[0;34m=\u001b[0m \u001b[0mprocedures\u001b[0m\u001b[0;34m[\u001b[0m\u001b[0;34m'gradient'\u001b[0m\u001b[0;34m]\u001b[0m\u001b[0;34m[\u001b[0m\u001b[0mlowername\u001b[0m\u001b[0;34m]\u001b[0m\u001b[0;34m(\u001b[0m\u001b[0mlowername\u001b[0m\u001b[0;34m,\u001b[0m \u001b[0mmolecule\u001b[0m\u001b[0;34m=\u001b[0m\u001b[0mmolecule\u001b[0m\u001b[0;34m,\u001b[0m \u001b[0;34m**\u001b[0m\u001b[0mkwargs\u001b[0m\u001b[0;34m)\u001b[0m\u001b[0;34m\u001b[0m\u001b[0;34m\u001b[0m\u001b[0m\n\u001b[0m\u001b[1;32m    740\u001b[0m \u001b[0;34m\u001b[0m\u001b[0m\n\u001b[1;32m    741\u001b[0m     \u001b[0;32melse\u001b[0m\u001b[0;34m:\u001b[0m\u001b[0;34m\u001b[0m\u001b[0;34m\u001b[0m\u001b[0m\n",
      "\u001b[0;32m~/opt/anaconda3/envs/mdsapt2/lib/python3.8/site-packages/psi4/driver/procrouting/proc.py\u001b[0m in \u001b[0;36mrun_scf_gradient\u001b[0;34m(name, **kwargs)\u001b[0m\n\u001b[1;32m   2492\u001b[0m         \u001b[0mref_wfn\u001b[0m\u001b[0;34m.\u001b[0m\u001b[0mset_variable\u001b[0m\u001b[0;34m(\u001b[0m\u001b[0;34m\"-D Gradient\"\u001b[0m\u001b[0;34m,\u001b[0m \u001b[0mdisp_grad\u001b[0m\u001b[0;34m)\u001b[0m\u001b[0;34m\u001b[0m\u001b[0;34m\u001b[0m\u001b[0m\n\u001b[1;32m   2493\u001b[0m \u001b[0;34m\u001b[0m\u001b[0m\n\u001b[0;32m-> 2494\u001b[0;31m     \u001b[0mgrad\u001b[0m \u001b[0;34m=\u001b[0m \u001b[0mcore\u001b[0m\u001b[0;34m.\u001b[0m\u001b[0mscfgrad\u001b[0m\u001b[0;34m(\u001b[0m\u001b[0mref_wfn\u001b[0m\u001b[0;34m)\u001b[0m\u001b[0;34m\u001b[0m\u001b[0;34m\u001b[0m\u001b[0m\n\u001b[0m\u001b[1;32m   2495\u001b[0m \u001b[0;34m\u001b[0m\u001b[0m\n\u001b[1;32m   2496\u001b[0m     \u001b[0;32mif\u001b[0m \u001b[0mref_wfn\u001b[0m\u001b[0;34m.\u001b[0m\u001b[0mbasisset\u001b[0m\u001b[0;34m(\u001b[0m\u001b[0;34m)\u001b[0m\u001b[0;34m.\u001b[0m\u001b[0mhas_ECP\u001b[0m\u001b[0;34m(\u001b[0m\u001b[0;34m)\u001b[0m\u001b[0;34m:\u001b[0m\u001b[0;34m\u001b[0m\u001b[0;34m\u001b[0m\u001b[0m\n",
      "\u001b[0;31mKeyboardInterrupt\u001b[0m: "
     ]
    }
   ],
   "source": [
    "psi4.set_memory('8GB')\n",
    "psi4.set_options(opt_settings)\n",
    "psi4.set_output_file('opt_fullres.txt')\n",
    "psi4.optimize('scf/cc-pvdz', freeze_list=freeze_list, opt_coordinates='cartesian', molecule=mol)"
   ]
  }
 ],
 "metadata": {
  "interpreter": {
   "hash": "f068b3d020f2c6423e63f8d24c4015b4467ada0f87e79a63fd9f5465243a2a38"
  },
  "kernelspec": {
   "display_name": "Python 3.8.12 64-bit ('MDSAPT': conda)",
   "name": "python3"
  },
  "language_info": {
   "codemirror_mode": {
    "name": "ipython",
    "version": 3
   },
   "file_extension": ".py",
   "mimetype": "text/x-python",
   "name": "python",
   "nbconvert_exporter": "python",
   "pygments_lexer": "ipython3",
   "version": "3.8.12"
  }
 },
 "nbformat": 4,
 "nbformat_minor": 0
}
